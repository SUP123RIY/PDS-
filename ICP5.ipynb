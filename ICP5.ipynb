{
  "nbformat": 4,
  "nbformat_minor": 0,
  "metadata": {
    "colab": {
      "provenance": []
    },
    "kernelspec": {
      "name": "python3",
      "display_name": "Python 3"
    },
    "language_info": {
      "name": "python"
    }
  },
  "cells": [
    {
      "cell_type": "code",
      "execution_count": 1,
      "metadata": {
        "id": "KTsp0KhiJYKD"
      },
      "outputs": [],
      "source": [
        "import pandas as pd"
      ]
    },
    {
      "cell_type": "code",
      "source": [
        "print(pd.__version__)"
      ],
      "metadata": {
        "colab": {
          "base_uri": "https://localhost:8080/"
        },
        "id": "BCQ7e3nUJgKe",
        "outputId": "28c71b58-b1c6-4751-a406-fef25380ebec"
      },
      "execution_count": 2,
      "outputs": [
        {
          "output_type": "stream",
          "name": "stdout",
          "text": [
            "2.2.2\n"
          ]
        }
      ]
    },
    {
      "cell_type": "code",
      "source": [
        "url = 'https://raw.githubusercontent.com/JuliaData/CSV.jl/refs/heads/main/test/testfiles/Sacramentorealestatetransactions.csv'\n",
        "df = pd.read_csv(url)"
      ],
      "metadata": {
        "id": "RM7iSdImJpj9"
      },
      "execution_count": 3,
      "outputs": []
    },
    {
      "cell_type": "markdown",
      "source": [
        "Number of columns in the data frame"
      ],
      "metadata": {
        "id": "GBpn1p2VJ_9v"
      }
    },
    {
      "cell_type": "code",
      "source": [
        "df.shape[1]"
      ],
      "metadata": {
        "colab": {
          "base_uri": "https://localhost:8080/"
        },
        "id": "XY-KTg9HKGQe",
        "outputId": "e209b827-1cdf-4859-cd44-ffa4962d366f"
      },
      "execution_count": 5,
      "outputs": [
        {
          "output_type": "execute_result",
          "data": {
            "text/plain": [
              "12"
            ]
          },
          "metadata": {},
          "execution_count": 5
        }
      ]
    },
    {
      "cell_type": "markdown",
      "source": [
        "Mean of the house prices"
      ],
      "metadata": {
        "id": "O7FaWzjyKiIa"
      }
    },
    {
      "cell_type": "code",
      "source": [
        "mean_price = df['price'].mean()\n",
        "print(f\"The mean of the house prices is: {mean_price}\")"
      ],
      "metadata": {
        "colab": {
          "base_uri": "https://localhost:8080/"
        },
        "id": "Wrjl2JbHKrXn",
        "outputId": "b0e6d6f1-d403-4764-e5f2-92e226151ab6"
      },
      "execution_count": 6,
      "outputs": [
        {
          "output_type": "stream",
          "name": "stdout",
          "text": [
            "The mean of the house prices is: 234144.26395939087\n"
          ]
        }
      ]
    },
    {
      "cell_type": "markdown",
      "source": [
        "Median of the house prices"
      ],
      "metadata": {
        "id": "M-LoelpmMZLJ"
      }
    },
    {
      "cell_type": "code",
      "source": [
        "median_price = df['price'].median()\n",
        "print(f\"The median of the house prices is: {median_price}\")"
      ],
      "metadata": {
        "colab": {
          "base_uri": "https://localhost:8080/"
        },
        "id": "OU4RXXaYMVNl",
        "outputId": "2699ae37-3efe-486e-b061-7efbea749fa7"
      },
      "execution_count": 7,
      "outputs": [
        {
          "output_type": "stream",
          "name": "stdout",
          "text": [
            "The median of the house prices is: 213750.0\n"
          ]
        }
      ]
    },
    {
      "cell_type": "markdown",
      "source": [
        "Find the different types of property in the dataset\n"
      ],
      "metadata": {
        "id": "Shn21BsbNHa1"
      }
    },
    {
      "cell_type": "code",
      "source": [
        "print(f\"Different types of property: {df['type'].unique()}\")\n"
      ],
      "metadata": {
        "colab": {
          "base_uri": "https://localhost:8080/"
        },
        "id": "sivUuActMuYi",
        "outputId": "1892bea5-476a-462f-a67c-ce8ca7d8f46f"
      },
      "execution_count": 8,
      "outputs": [
        {
          "output_type": "stream",
          "name": "stdout",
          "text": [
            "Different types of property: ['Residential' 'Condo' 'Multi-Family' 'Unkown']\n"
          ]
        }
      ]
    },
    {
      "cell_type": "markdown",
      "source": [
        " maximum price of a \"condo\" in the dataset\n"
      ],
      "metadata": {
        "id": "yOPt5S1fNMUf"
      }
    },
    {
      "cell_type": "code",
      "source": [
        "print(f\"The maximum price of a condo is: {df[df['type'] == 'Condo']['price'].max()}\")\n"
      ],
      "metadata": {
        "colab": {
          "base_uri": "https://localhost:8080/"
        },
        "id": "LM2WU9ZTNLj0",
        "outputId": "08547768-7619-4f74-881c-913d5f8574e2"
      },
      "execution_count": 9,
      "outputs": [
        {
          "output_type": "stream",
          "name": "stdout",
          "text": [
            "The maximum price of a condo is: 360000\n"
          ]
        }
      ]
    },
    {
      "cell_type": "markdown",
      "source": [
        " mean of each type of property in the dataset"
      ],
      "metadata": {
        "id": "nB8KYNHwNfa7"
      }
    },
    {
      "cell_type": "code",
      "source": [
        "print(df.groupby('type')['price'].mean())\n"
      ],
      "metadata": {
        "colab": {
          "base_uri": "https://localhost:8080/"
        },
        "id": "iP0MeiyjM7i3",
        "outputId": "486a1d14-2d2d-472f-c517-403bd7a4a3c9"
      },
      "execution_count": 10,
      "outputs": [
        {
          "output_type": "stream",
          "name": "stdout",
          "text": [
            "type\n",
            "Condo           150082.185185\n",
            "Multi-Family    224534.692308\n",
            "Residential     239186.162486\n",
            "Unkown          275000.000000\n",
            "Name: price, dtype: float64\n"
          ]
        }
      ]
    },
    {
      "cell_type": "markdown",
      "source": [
        "Find the count of different property types in dataset"
      ],
      "metadata": {
        "id": "h0fWrRqZNtJy"
      }
    },
    {
      "cell_type": "code",
      "source": [
        "print(df['type'].value_counts())\n"
      ],
      "metadata": {
        "colab": {
          "base_uri": "https://localhost:8080/"
        },
        "id": "WC2RWAeWN0ca",
        "outputId": "d23f53d8-096c-4b25-ff82-99afb562bc93"
      },
      "execution_count": 11,
      "outputs": [
        {
          "output_type": "stream",
          "name": "stdout",
          "text": [
            "type\n",
            "Residential     917\n",
            "Condo            54\n",
            "Multi-Family     13\n",
            "Unkown            1\n",
            "Name: count, dtype: int64\n"
          ]
        }
      ]
    }
  ]
}